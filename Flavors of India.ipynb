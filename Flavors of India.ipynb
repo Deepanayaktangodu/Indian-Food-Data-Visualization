{
 "cells": [
  {
   "cell_type": "markdown",
   "id": "0c0a8ea4-d353-4e23-9176-b59b85e74b29",
   "metadata": {},
   "source": [
    "Flavors of India: A Culinary Data Journey Through Culture and Regions"
   ]
  },
  {
   "cell_type": "code",
   "execution_count": 2,
   "id": "dcc154c4-9588-42da-bf4d-6c10260cfe85",
   "metadata": {},
   "outputs": [],
   "source": [
    "#Import necessary libraries\n",
    "import pandas as pd\n",
    "import numpy as np\n",
    "import seaborn as sns\n",
    "import matplotlib.pyplot as plt"
   ]
  },
  {
   "cell_type": "code",
   "execution_count": 3,
   "id": "4a31a530-ae7f-4068-9f37-d365d49825fd",
   "metadata": {},
   "outputs": [],
   "source": [
    "# Load the dataset\n",
    "df= pd.read_csv(r\"C:\\Users\\Deepa nayak\\OneDrive\\Desktop\\CodeAlpha\\Tak-3 (DV)\\indian_food.csv\")"
   ]
  },
  {
   "cell_type": "markdown",
   "id": "995ca1be-4c4e-4ed2-a584-493061f6d82d",
   "metadata": {},
   "source": [
    "📌 Step 1: Basic Shape & Info"
   ]
  },
  {
   "cell_type": "code",
   "execution_count": 4,
   "id": "8c1226d8-8999-4146-bc96-f0a3517bb4f3",
   "metadata": {},
   "outputs": [
    {
     "name": "stdout",
     "output_type": "stream",
     "text": [
      "Shape of the dataset: (255, 9)\n",
      "\n",
      "Data types and non-null counts:\n",
      "<class 'pandas.core.frame.DataFrame'>\n",
      "RangeIndex: 255 entries, 0 to 254\n",
      "Data columns (total 9 columns):\n",
      " #   Column          Non-Null Count  Dtype \n",
      "---  ------          --------------  ----- \n",
      " 0   name            255 non-null    object\n",
      " 1   ingredients     255 non-null    object\n",
      " 2   diet            255 non-null    object\n",
      " 3   prep_time       255 non-null    int64 \n",
      " 4   cook_time       255 non-null    int64 \n",
      " 5   flavor_profile  255 non-null    object\n",
      " 6   course          255 non-null    object\n",
      " 7   state           255 non-null    object\n",
      " 8   region          254 non-null    object\n",
      "dtypes: int64(2), object(7)\n",
      "memory usage: 18.1+ KB\n",
      "None\n"
     ]
    }
   ],
   "source": [
    "# Number of rows and columns\n",
    "print(\"Shape of the dataset:\", df.shape)\n",
    "\n",
    "# Column names & datatypes\n",
    "print(\"\\nData types and non-null counts:\")\n",
    "print(df.info())"
   ]
  },
  {
   "cell_type": "markdown",
   "id": "4d38367d-79c8-4cc5-979f-4f28bbd798fa",
   "metadata": {},
   "source": [
    "📌 Step 2: Summary Statistics"
   ]
  },
  {
   "cell_type": "code",
   "execution_count": 5,
   "id": "0a3dcb20-3df2-4bee-83f4-6dee71f9244b",
   "metadata": {},
   "outputs": [
    {
     "data": {
      "text/html": [
       "<div>\n",
       "<style scoped>\n",
       "    .dataframe tbody tr th:only-of-type {\n",
       "        vertical-align: middle;\n",
       "    }\n",
       "\n",
       "    .dataframe tbody tr th {\n",
       "        vertical-align: top;\n",
       "    }\n",
       "\n",
       "    .dataframe thead th {\n",
       "        text-align: right;\n",
       "    }\n",
       "</style>\n",
       "<table border=\"1\" class=\"dataframe\">\n",
       "  <thead>\n",
       "    <tr style=\"text-align: right;\">\n",
       "      <th></th>\n",
       "      <th>prep_time</th>\n",
       "      <th>cook_time</th>\n",
       "    </tr>\n",
       "  </thead>\n",
       "  <tbody>\n",
       "    <tr>\n",
       "      <th>count</th>\n",
       "      <td>255.000000</td>\n",
       "      <td>255.000000</td>\n",
       "    </tr>\n",
       "    <tr>\n",
       "      <th>mean</th>\n",
       "      <td>31.105882</td>\n",
       "      <td>34.529412</td>\n",
       "    </tr>\n",
       "    <tr>\n",
       "      <th>std</th>\n",
       "      <td>72.554409</td>\n",
       "      <td>48.265650</td>\n",
       "    </tr>\n",
       "    <tr>\n",
       "      <th>min</th>\n",
       "      <td>-1.000000</td>\n",
       "      <td>-1.000000</td>\n",
       "    </tr>\n",
       "    <tr>\n",
       "      <th>25%</th>\n",
       "      <td>10.000000</td>\n",
       "      <td>20.000000</td>\n",
       "    </tr>\n",
       "    <tr>\n",
       "      <th>50%</th>\n",
       "      <td>10.000000</td>\n",
       "      <td>30.000000</td>\n",
       "    </tr>\n",
       "    <tr>\n",
       "      <th>75%</th>\n",
       "      <td>20.000000</td>\n",
       "      <td>40.000000</td>\n",
       "    </tr>\n",
       "    <tr>\n",
       "      <th>max</th>\n",
       "      <td>500.000000</td>\n",
       "      <td>720.000000</td>\n",
       "    </tr>\n",
       "  </tbody>\n",
       "</table>\n",
       "</div>"
      ],
      "text/plain": [
       "        prep_time   cook_time\n",
       "count  255.000000  255.000000\n",
       "mean    31.105882   34.529412\n",
       "std     72.554409   48.265650\n",
       "min     -1.000000   -1.000000\n",
       "25%     10.000000   20.000000\n",
       "50%     10.000000   30.000000\n",
       "75%     20.000000   40.000000\n",
       "max    500.000000  720.000000"
      ]
     },
     "execution_count": 5,
     "metadata": {},
     "output_type": "execute_result"
    }
   ],
   "source": [
    "# Summary stats for numeric columns\n",
    "df.describe()"
   ]
  },
  {
   "cell_type": "markdown",
   "id": "24ace30c-f99d-4ca8-84e0-759a13e789dd",
   "metadata": {},
   "source": [
    "📌 Step 3: Missing Values Check"
   ]
  },
  {
   "cell_type": "code",
   "execution_count": 6,
   "id": "da25d830-5489-44b6-85e6-975c2947cd9c",
   "metadata": {},
   "outputs": [
    {
     "name": "stdout",
     "output_type": "stream",
     "text": [
      "\n",
      "Missing values in each column:\n",
      "name              0\n",
      "ingredients       0\n",
      "diet              0\n",
      "prep_time         0\n",
      "cook_time         0\n",
      "flavor_profile    0\n",
      "course            0\n",
      "state             0\n",
      "region            1\n",
      "dtype: int64\n"
     ]
    }
   ],
   "source": [
    "# Check for missing/null values\n",
    "print(\"\\nMissing values in each column:\")\n",
    "print(df.isnull().sum())"
   ]
  },
  {
   "cell_type": "code",
   "execution_count": 8,
   "id": "de8f3a49-df30-4338-a7ed-591517304d05",
   "metadata": {},
   "outputs": [
    {
     "data": {
      "text/plain": [
       "name              0\n",
       "ingredients       0\n",
       "diet              0\n",
       "prep_time         0\n",
       "cook_time         0\n",
       "flavor_profile    0\n",
       "course            0\n",
       "state             0\n",
       "region            0\n",
       "dtype: int64"
      ]
     },
     "execution_count": 8,
     "metadata": {},
     "output_type": "execute_result"
    }
   ],
   "source": [
    "# Drop the missing value column\n",
    "df.dropna(inplace=True)\n",
    "# Recheck for missing/null values\n",
    "df.isnull().sum()"
   ]
  },
  {
   "cell_type": "markdown",
   "id": "d9634f7d-ea6c-4793-ae71-9d35e811c725",
   "metadata": {},
   "source": [
    "📌 Step 4: Duplicate Records"
   ]
  },
  {
   "cell_type": "code",
   "execution_count": 9,
   "id": "f0aac2e0-40f1-4ea7-8bb5-50b3b523307e",
   "metadata": {},
   "outputs": [
    {
     "name": "stdout",
     "output_type": "stream",
     "text": [
      "\n",
      "Duplicate rows found: 0\n"
     ]
    }
   ],
   "source": [
    "# Check for duplicates\n",
    "duplicate_rows = df[df.duplicated()]\n",
    "print(\"\\nDuplicate rows found:\", duplicate_rows.shape[0])"
   ]
  },
  {
   "cell_type": "markdown",
   "id": "49422563-f987-4abc-a643-f4948bbead55",
   "metadata": {},
   "source": [
    "📌 Step 5: Unique Values in Key Categorical Columns"
   ]
  },
  {
   "cell_type": "code",
   "execution_count": 10,
   "id": "fb438a5c-fbc0-4172-ab68-6dee32409a03",
   "metadata": {},
   "outputs": [
    {
     "name": "stdout",
     "output_type": "stream",
     "text": [
      "\n",
      "Diet types:\n",
      " diet\n",
      "vegetarian        225\n",
      "non vegetarian     29\n",
      "Name: count, dtype: int64\n",
      "\n",
      "Flavor profiles:\n",
      " flavor_profile\n",
      "spicy     133\n",
      "sweet      87\n",
      "-1         29\n",
      "bitter      4\n",
      "sour        1\n",
      "Name: count, dtype: int64\n",
      "\n",
      "Course types:\n",
      " course\n",
      "main course    129\n",
      "dessert         84\n",
      "snack           39\n",
      "starter          2\n",
      "Name: count, dtype: int64\n",
      "\n",
      "Regions:\n",
      " region\n",
      "West          74\n",
      "South         59\n",
      "North         49\n",
      "East          31\n",
      "North East    25\n",
      "-1            13\n",
      "Central        3\n",
      "Name: count, dtype: int64\n"
     ]
    }
   ],
   "source": [
    "# Value counts for insight\n",
    "print(\"\\nDiet types:\\n\", df['diet'].value_counts())\n",
    "print(\"\\nFlavor profiles:\\n\", df['flavor_profile'].value_counts())\n",
    "print(\"\\nCourse types:\\n\", df['course'].value_counts())\n",
    "print(\"\\nRegions:\\n\", df['region'].value_counts())"
   ]
  },
  {
   "cell_type": "code",
   "execution_count": 12,
   "id": "8f0cc64e-a446-4ba6-a04f-9436752118a3",
   "metadata": {},
   "outputs": [],
   "source": [
    "# Replace -1 with NaN in numeric columns\n",
    "df['prep_time'] = df['prep_time'].replace(-1, np.nan)\n",
    "df['cook_time'] = df['cook_time'].replace(-1, np.nan)\n",
    "\n",
    "# Replace -1 (string or int) with 'Unknown' in object columns\n",
    "for col in ['state', 'region', 'flavor_profile', 'sweet', 'spicy']:\n",
    "    if col in df.columns:\n",
    "        df[col] = df[col].replace([\"-1\", -1], \"Unknown\")"
   ]
  },
  {
   "cell_type": "markdown",
   "id": "d6d89896-cae7-461e-b8ba-3a59a08abb28",
   "metadata": {},
   "source": [
    "🔍 Analysis Goals for “Flavors of India”:\n",
    "\n",
    "🟢 1. Category & Distribution Insights\n",
    "What’s the Veg vs Non-Veg ratio?\n",
    "\n",
    "Which course type (snack, main, dessert) is most common?\n",
    "\n",
    "Most frequent flavor profiles?\n",
    "\n",
    "🟡 2. Regional Patterns\n",
    "Which region has the most dishes?\n",
    "\n",
    "Top states by dish count?\n",
    "\n",
    "Region-wise variety of courses?\n",
    "\n",
    "🔵 3. Time-Based Patterns\n",
    "Average prep time / cook time per region or course\n",
    "\n",
    "Distribution of prep/cook time (who takes the longest?)\n"
   ]
  },
  {
   "cell_type": "markdown",
   "id": "d66a9e22-4d6a-4e49-8467-574057dd501d",
   "metadata": {},
   "source": [
    "🛠️ Section 1: Category & Distribution Insights"
   ]
  },
  {
   "cell_type": "markdown",
   "id": "03fe22eb-5919-48d0-84d6-4a0b22ec2f85",
   "metadata": {},
   "source": [
    "✅ Veg vs Non-Veg Count"
   ]
  },
  {
   "cell_type": "code",
   "execution_count": 14,
   "id": "af8bbbd4-c974-4833-9cbd-6a95708846fe",
   "metadata": {},
   "outputs": [
    {
     "data": {
      "text/plain": [
       "diet\n",
       "vegetarian        225\n",
       "non vegetarian     29\n",
       "Name: count, dtype: int64"
      ]
     },
     "execution_count": 14,
     "metadata": {},
     "output_type": "execute_result"
    }
   ],
   "source": [
    "df['diet'].value_counts()"
   ]
  },
  {
   "cell_type": "markdown",
   "id": "5d59887e-1a84-4007-9ee5-33f81b1fb862",
   "metadata": {},
   "source": [
    "✅ Distribution of Courses"
   ]
  },
  {
   "cell_type": "code",
   "execution_count": 15,
   "id": "3a706203-9e2a-4ba2-93fc-a78a5eabea00",
   "metadata": {},
   "outputs": [
    {
     "data": {
      "text/plain": [
       "course\n",
       "main course    129\n",
       "dessert         84\n",
       "snack           39\n",
       "starter          2\n",
       "Name: count, dtype: int64"
      ]
     },
     "execution_count": 15,
     "metadata": {},
     "output_type": "execute_result"
    }
   ],
   "source": [
    "df['course'].value_counts()"
   ]
  },
  {
   "cell_type": "markdown",
   "id": "ef4b3f0f-6d76-4f87-b782-c9e73c2a0ce6",
   "metadata": {},
   "source": [
    "✅ Distribution of Flavor Profiles"
   ]
  },
  {
   "cell_type": "code",
   "execution_count": 16,
   "id": "6d3e8525-5a8d-4ce1-93a3-777963606deb",
   "metadata": {},
   "outputs": [
    {
     "data": {
      "text/plain": [
       "flavor_profile\n",
       "spicy      133\n",
       "sweet       87\n",
       "Unknown     29\n",
       "bitter       4\n",
       "sour         1\n",
       "Name: count, dtype: int64"
      ]
     },
     "execution_count": 16,
     "metadata": {},
     "output_type": "execute_result"
    }
   ],
   "source": [
    "df['flavor_profile'].value_counts()"
   ]
  },
  {
   "cell_type": "markdown",
   "id": "36dc0f66-e7df-4761-b7fb-3990c4ae59b3",
   "metadata": {},
   "source": [
    "🟡 Section 2: Regional & State-wise Patterns"
   ]
  },
  {
   "cell_type": "markdown",
   "id": "048aff0f-0079-45f5-8ce4-44e8317fe779",
   "metadata": {},
   "source": [
    "✅ 1. Region-wise Dish Count"
   ]
  },
  {
   "cell_type": "code",
   "execution_count": 17,
   "id": "b03a8d03-11b9-4a35-a534-bed910ca2b92",
   "metadata": {},
   "outputs": [
    {
     "data": {
      "text/plain": [
       "region\n",
       "West          74\n",
       "South         59\n",
       "North         49\n",
       "East          31\n",
       "North East    25\n",
       "Unknown       13\n",
       "Central        3\n",
       "Name: count, dtype: int64"
      ]
     },
     "execution_count": 17,
     "metadata": {},
     "output_type": "execute_result"
    }
   ],
   "source": [
    "df['region'].value_counts()"
   ]
  },
  {
   "cell_type": "markdown",
   "id": "33bb9813-5abe-4f47-ab03-f07281ca85b3",
   "metadata": {},
   "source": [
    "✅ 2. State-wise Dish Count (Top 10)"
   ]
  },
  {
   "cell_type": "code",
   "execution_count": 18,
   "id": "e5382bf8-eca6-47b8-8f09-a9ed1288e4a0",
   "metadata": {},
   "outputs": [
    {
     "data": {
      "text/plain": [
       "state\n",
       "Gujarat           35\n",
       "Punjab            32\n",
       "Maharashtra       30\n",
       "West Bengal       24\n",
       "Unknown           24\n",
       "Assam             21\n",
       "Tamil Nadu        20\n",
       "Andhra Pradesh    10\n",
       "Kerala             8\n",
       "Uttar Pradesh      8\n",
       "Name: count, dtype: int64"
      ]
     },
     "execution_count": 18,
     "metadata": {},
     "output_type": "execute_result"
    }
   ],
   "source": [
    "df['state'].value_counts().head(10)"
   ]
  },
  {
   "cell_type": "markdown",
   "id": "1cced795-e872-434b-9f0b-eb653601d14a",
   "metadata": {},
   "source": [
    "✅ 3. Number of Unique Dishes per Region"
   ]
  },
  {
   "cell_type": "code",
   "execution_count": 19,
   "id": "e913bb4a-703f-428e-8b3f-92a8fb211ead",
   "metadata": {},
   "outputs": [
    {
     "data": {
      "text/plain": [
       "region\n",
       "West          74\n",
       "South         59\n",
       "North         49\n",
       "East          31\n",
       "North East    25\n",
       "Unknown       13\n",
       "Central        3\n",
       "Name: name, dtype: int64"
      ]
     },
     "execution_count": 19,
     "metadata": {},
     "output_type": "execute_result"
    }
   ],
   "source": [
    "df.groupby('region')['name'].nunique().sort_values(ascending=False)"
   ]
  },
  {
   "cell_type": "markdown",
   "id": "41f8731f-f916-4905-b529-0701f6e2e4a1",
   "metadata": {},
   "source": [
    "✅ 4. Variety of Courses by Region"
   ]
  },
  {
   "cell_type": "code",
   "execution_count": 20,
   "id": "be859b2a-4702-4f92-9b01-a368e43d1251",
   "metadata": {},
   "outputs": [
    {
     "data": {
      "text/plain": [
       "region      course     \n",
       "Central     dessert         1\n",
       "            main course     1\n",
       "            snack           1\n",
       "East        dessert        21\n",
       "            main course    10\n",
       "North       main course    37\n",
       "            dessert         9\n",
       "            starter         2\n",
       "            snack           1\n",
       "North East  main course    18\n",
       "            dessert         7\n",
       "South       main course    31\n",
       "            dessert        18\n",
       "            snack          10\n",
       "Unknown     dessert         5\n",
       "            main course     4\n",
       "            snack           4\n",
       "West        main course    28\n",
       "            dessert        23\n",
       "            snack          23\n",
       "Name: count, dtype: int64"
      ]
     },
     "execution_count": 20,
     "metadata": {},
     "output_type": "execute_result"
    }
   ],
   "source": [
    "df.groupby('region')['course'].value_counts()"
   ]
  },
  {
   "cell_type": "markdown",
   "id": "b8250284-f4a6-47ac-8475-4cf7899fbe22",
   "metadata": {},
   "source": [
    "🔵 Section 3: Time-Based Patterns"
   ]
  },
  {
   "cell_type": "markdown",
   "id": "caca6cde-d0c0-49c8-a431-f54fd3ab8fe5",
   "metadata": {},
   "source": [
    "✅ 1. Average Prep Time by Course"
   ]
  },
  {
   "cell_type": "code",
   "execution_count": 21,
   "id": "52dc0212-1d6a-485c-9161-9e4700e702e3",
   "metadata": {},
   "outputs": [
    {
     "data": {
      "text/plain": [
       "course\n",
       "starter        180.000000\n",
       "snack           56.388889\n",
       "dessert         30.223684\n",
       "main course     29.681818\n",
       "Name: prep_time, dtype: float64"
      ]
     },
     "execution_count": 21,
     "metadata": {},
     "output_type": "execute_result"
    }
   ],
   "source": [
    "df.groupby('course')['prep_time'].mean().sort_values(ascending=False)"
   ]
  },
  {
   "cell_type": "markdown",
   "id": "6a2c4105-4333-48ea-b457-e03323831230",
   "metadata": {},
   "source": [
    "✅ 2. Average Cook Time by Region"
   ]
  },
  {
   "cell_type": "code",
   "execution_count": 22,
   "id": "3ead092c-9f98-43ab-8ea4-b197f7ad3232",
   "metadata": {},
   "outputs": [
    {
     "data": {
      "text/plain": [
       "region\n",
       "Central       48.333333\n",
       "North         41.979167\n",
       "West          41.880597\n",
       "East          41.607143\n",
       "South         36.909091\n",
       "North East    28.461538\n",
       "Unknown       23.083333\n",
       "Name: cook_time, dtype: float64"
      ]
     },
     "execution_count": 22,
     "metadata": {},
     "output_type": "execute_result"
    }
   ],
   "source": [
    "df.groupby('region')['cook_time'].mean().sort_values(ascending=False)"
   ]
  },
  {
   "cell_type": "markdown",
   "id": "db536749-66c3-4c0e-a85e-c18e32eee535",
   "metadata": {},
   "source": [
    "✅ 3. Dishes with Highest Prep Time (Top 5)"
   ]
  },
  {
   "cell_type": "code",
   "execution_count": 23,
   "id": "918fddf8-bc5a-4d2c-bce6-7fe41c2cdc42",
   "metadata": {},
   "outputs": [
    {
     "data": {
      "text/html": [
       "<div>\n",
       "<style scoped>\n",
       "    .dataframe tbody tr th:only-of-type {\n",
       "        vertical-align: middle;\n",
       "    }\n",
       "\n",
       "    .dataframe tbody tr th {\n",
       "        vertical-align: top;\n",
       "    }\n",
       "\n",
       "    .dataframe thead th {\n",
       "        text-align: right;\n",
       "    }\n",
       "</style>\n",
       "<table border=\"1\" class=\"dataframe\">\n",
       "  <thead>\n",
       "    <tr style=\"text-align: right;\">\n",
       "      <th></th>\n",
       "      <th>name</th>\n",
       "      <th>prep_time</th>\n",
       "    </tr>\n",
       "  </thead>\n",
       "  <tbody>\n",
       "    <tr>\n",
       "      <th>114</th>\n",
       "      <td>Pindi chana</td>\n",
       "      <td>500.0</td>\n",
       "    </tr>\n",
       "    <tr>\n",
       "      <th>155</th>\n",
       "      <td>Puttu</td>\n",
       "      <td>495.0</td>\n",
       "    </tr>\n",
       "    <tr>\n",
       "      <th>29</th>\n",
       "      <td>Misti doi</td>\n",
       "      <td>480.0</td>\n",
       "    </tr>\n",
       "    <tr>\n",
       "      <th>130</th>\n",
       "      <td>Idli</td>\n",
       "      <td>360.0</td>\n",
       "    </tr>\n",
       "    <tr>\n",
       "      <th>128</th>\n",
       "      <td>Dosa</td>\n",
       "      <td>360.0</td>\n",
       "    </tr>\n",
       "  </tbody>\n",
       "</table>\n",
       "</div>"
      ],
      "text/plain": [
       "            name  prep_time\n",
       "114  Pindi chana      500.0\n",
       "155        Puttu      495.0\n",
       "29     Misti doi      480.0\n",
       "130         Idli      360.0\n",
       "128         Dosa      360.0"
      ]
     },
     "execution_count": 23,
     "metadata": {},
     "output_type": "execute_result"
    }
   ],
   "source": [
    "df[['name', 'prep_time']].sort_values(by='prep_time', ascending=False).head(5)"
   ]
  },
  {
   "cell_type": "markdown",
   "id": "95471177-7a45-4226-beb4-c4eae8602326",
   "metadata": {},
   "source": [
    "✅ 4. Distribution of Cook Time"
   ]
  },
  {
   "cell_type": "code",
   "execution_count": 24,
   "id": "1d4c3c55-b99b-4170-8706-45299edde415",
   "metadata": {},
   "outputs": [
    {
     "data": {
      "image/png": "[encoded data removed]",
      "text/plain": [
       "<Figure size 1000x500 with 1 Axes>"
      ]
     },
     "metadata": {},
     "output_type": "display_data"
    }
   ],
   "source": [
    "plt.figure(figsize=(10,5))\n",
    "sns.histplot(df['cook_time'].dropna(), bins=20, kde=True, color='tomato')\n",
    "plt.title('Distribution of Cook Time')\n",
    "plt.xlabel('Cook Time (minutes)')\n",
    "plt.ylabel('Number of Dishes')\n",
    "plt.show()"
   ]
  },
  {
   "cell_type": "code",
   "execution_count": null,
   "id": "7d264533-d1f9-48a1-a27a-ff2bc5e46b35",
   "metadata": {},
   "outputs": [],
   "source": []
  },
  {
   "cell_type": "code",
   "execution_count": null,
   "id": "8aa4f14d-90d3-4fd5-b74e-b389e57bfd9d",
   "metadata": {},
   "outputs": [],
   "source": []
  }
 ],
 "metadata": {
  "kernelspec": {
   "display_name": "Python 3 (ipykernel)",
   "language": "python",
   "name": "python3"
  },
  "language_info": {
   "codemirror_mode": {
    "name": "ipython",
    "version": 3
   },
   "file_extension": ".py",
   "mimetype": "text/x-python",
   "name": "python",
   "nbconvert_exporter": "python",
   "pygments_lexer": "ipython3",
   "version": "3.12.4"
  }
 },
 "nbformat": 4,
 "nbformat_minor": 5
}
